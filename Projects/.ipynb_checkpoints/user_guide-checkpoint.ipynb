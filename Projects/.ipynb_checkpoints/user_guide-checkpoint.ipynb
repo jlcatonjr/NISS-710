{
 "cells": [
  {
   "cell_type": "markdown",
   "metadata": {},
   "source": [
    "# How to use SyntheticControlMethods: an example using the German Reunification study from [Abadie, Diamond and Hainmueller (2015)](https://web.stanford.edu/~jhain/Paper/AJPS2015a.pdf)\n",
    "\n",
    "\n",
    "This notebook is meant provide a worked example of how the package can be used, and how to interpret the different plots. As such, this doubles as both an example and documentation (until I publish standalone docs).\n",
    "\n",
    "In this example, we use data from [Abadie, Diamond and Hainmueller (2015)](https://web.stanford.edu/~jhain/Paper/AJPS2015a.pdf), which estimates the economic impact of the 1990 German reunification on West Germany using the synthetic control method. However, do note that this is not meant to be a replication.\n",
    "\n",
    "The notebook is divided into four sections:\n",
    "1. General data requirements for using Synthetic Controls of any kind\n",
    "1. Using Ordinary Synthetic Controls, Synth()\n",
    "3. Using Penalized Synthetic Controls, Synth(pen=\"auto\")\n",
    "4. Using Differenced Synthetic Controls, DiffSynth(pen=0) and DiffSynth(pen=\"auto\")\n",
    "\n",
    "*Last updated: March 11, 2021.*"
   ]
  },
  {
   "cell_type": "code",
   "execution_count": 1,
   "metadata": {},
   "outputs": [],
   "source": [
    "#Import packages\n",
    "import pandas as pd\n",
    "import numpy as np\n",
    "\n",
    "from SyntheticControlMethods import Synth, DiffSynth"
   ]
  },
  {
   "cell_type": "markdown",
   "metadata": {},
   "source": [
    "## Data Requirements"
   ]
  },
  {
   "cell_type": "code",
   "execution_count": 2,
   "metadata": {
    "scrolled": false
   },
   "outputs": [
    {
     "data": {
      "text/html": [
       "<div>\n",
       "<style scoped>\n",
       "    .dataframe tbody tr th:only-of-type {\n",
       "        vertical-align: middle;\n",
       "    }\n",
       "\n",
       "    .dataframe tbody tr th {\n",
       "        vertical-align: top;\n",
       "    }\n",
       "\n",
       "    .dataframe thead th {\n",
       "        text-align: right;\n",
       "    }\n",
       "</style>\n",
       "<table border=\"1\" class=\"dataframe\">\n",
       "  <thead>\n",
       "    <tr style=\"text-align: right;\">\n",
       "      <th></th>\n",
       "      <th>country</th>\n",
       "      <th>year</th>\n",
       "      <th>gdp</th>\n",
       "      <th>infrate</th>\n",
       "      <th>trade</th>\n",
       "      <th>schooling</th>\n",
       "      <th>invest60</th>\n",
       "      <th>invest70</th>\n",
       "      <th>invest80</th>\n",
       "      <th>industry</th>\n",
       "    </tr>\n",
       "  </thead>\n",
       "  <tbody>\n",
       "    <tr>\n",
       "      <th>0</th>\n",
       "      <td>USA</td>\n",
       "      <td>1960</td>\n",
       "      <td>2879</td>\n",
       "      <td>NaN</td>\n",
       "      <td>9.693181</td>\n",
       "      <td>43.799999</td>\n",
       "      <td>NaN</td>\n",
       "      <td>NaN</td>\n",
       "      <td>NaN</td>\n",
       "      <td>NaN</td>\n",
       "    </tr>\n",
       "    <tr>\n",
       "      <th>1</th>\n",
       "      <td>USA</td>\n",
       "      <td>1961</td>\n",
       "      <td>2929</td>\n",
       "      <td>1.075182</td>\n",
       "      <td>9.444655</td>\n",
       "      <td>NaN</td>\n",
       "      <td>NaN</td>\n",
       "      <td>NaN</td>\n",
       "      <td>NaN</td>\n",
       "      <td>NaN</td>\n",
       "    </tr>\n",
       "    <tr>\n",
       "      <th>2</th>\n",
       "      <td>USA</td>\n",
       "      <td>1962</td>\n",
       "      <td>3103</td>\n",
       "      <td>1.116071</td>\n",
       "      <td>9.429324</td>\n",
       "      <td>NaN</td>\n",
       "      <td>NaN</td>\n",
       "      <td>NaN</td>\n",
       "      <td>NaN</td>\n",
       "      <td>NaN</td>\n",
       "    </tr>\n",
       "    <tr>\n",
       "      <th>3</th>\n",
       "      <td>USA</td>\n",
       "      <td>1963</td>\n",
       "      <td>3227</td>\n",
       "      <td>1.214128</td>\n",
       "      <td>9.470706</td>\n",
       "      <td>NaN</td>\n",
       "      <td>NaN</td>\n",
       "      <td>NaN</td>\n",
       "      <td>NaN</td>\n",
       "      <td>NaN</td>\n",
       "    </tr>\n",
       "    <tr>\n",
       "      <th>4</th>\n",
       "      <td>USA</td>\n",
       "      <td>1964</td>\n",
       "      <td>3420</td>\n",
       "      <td>1.308615</td>\n",
       "      <td>9.725879</td>\n",
       "      <td>NaN</td>\n",
       "      <td>NaN</td>\n",
       "      <td>NaN</td>\n",
       "      <td>NaN</td>\n",
       "      <td>NaN</td>\n",
       "    </tr>\n",
       "  </tbody>\n",
       "</table>\n",
       "</div>"
      ],
      "text/plain": [
       "  country  year   gdp   infrate     trade  schooling  invest60  invest70  \\\n",
       "0     USA  1960  2879       NaN  9.693181  43.799999       NaN       NaN   \n",
       "1     USA  1961  2929  1.075182  9.444655        NaN       NaN       NaN   \n",
       "2     USA  1962  3103  1.116071  9.429324        NaN       NaN       NaN   \n",
       "3     USA  1963  3227  1.214128  9.470706        NaN       NaN       NaN   \n",
       "4     USA  1964  3420  1.308615  9.725879        NaN       NaN       NaN   \n",
       "\n",
       "   invest80  industry  \n",
       "0       NaN       NaN  \n",
       "1       NaN       NaN  \n",
       "2       NaN       NaN  \n",
       "3       NaN       NaN  \n",
       "4       NaN       NaN  "
      ]
     },
     "execution_count": 2,
     "metadata": {},
     "output_type": "execute_result"
    }
   ],
   "source": [
    "#Import German Reunification data from paper\n",
    "#Can be found in /datasets folder in repo\n",
    "data = pd.read_csv(\"german_reunification.csv\")\n",
    "data = data.drop(columns=\"code\", axis=1)\n",
    "data.head()"
   ]
  },
  {
   "cell_type": "markdown",
   "metadata": {},
   "source": [
    "This is the dataset used in Abadie, Diamond and Hainmueller (2015). However, the purpose of this notebook is not to provide an exact replication, rather to showcase how to use the package. Consequently, I will not be covering what the variables mean, how they were collected etc. for that, see the original paper (link in title). \n",
    "\n",
    "### Formatting requirements:\n",
    "1. **Numerical variables.** Only the unit identifier, in this case \"country\" can be categorical.\n",
    "2. **The dataset must be sorted by unit and then by time.** That is, all the observations for any unit should appear consecutively in the dataset. In the above example, USA\n",
    "3. **Only one unit identifier, preferably in the form of a string with the unit name.** In the above example, both code and country columns are unit identifiers. To use the package, one must be excluded. This can be done by dropping the column from the dataframe or using the exclude_columns argument when calling Synth() or DiffSynth(). The tables and plots will use the unit identifiers as labels, so it preferable to use descriptive identifiers. FOr example, in this case it is better to use \"country\" instead of \"code\", as \"USA\" is more interpretable than \"1\".\n",
    "4. **The dataset must contain one treated unit and multiple control units.** The package attempts to find a weighted average of the control units that most closely resembles the treated unit, in terms of covariates and outcome, in the pre-treatment period. Of course, finding a good weighted average only works if there are multiple control units.\n",
    "5. **No missing values for the outcome, but okay for covariates**. Synthetic Controls use the entire outcome timeseries, and thus do not accept missing values. As such, you have to deal with missing outcome data yourself before using Synth, e.g. by imputation or dropping units. Because the synthetic control methods works only with the pre-treatment average of the covariates for each unit, it is okay to have missing values for covariates. Indeed, most methods for imputing missing values preserve the mean, and so would not affect the pre-treatment average. As such, missing values are not touched in Synth(). If you would like some kind of missing value imputation, you should do it on the dataframe before you feed it to Synth(). For DiffSynth, things are different. Because the first difference is only defined for consecutive values, it is very sensitive to missing values (more on this under DiffSynth() section below). DiffSynth() automatically uses linear interpolation to impute missing values. If you dislike this, you can impute values yourself before feeding the dataframe to DiffSynth().\n",
    "\n",
    "Note: Variable definitions can be found at the bottom of this notebook, or in Appendix A. of Abadie et al. (2015)."
   ]
  },
  {
   "cell_type": "markdown",
   "metadata": {},
   "source": [
    "# Using Synth, ordinary Synthetic Controls\n",
    "\n",
    "Synthetic Control is fit using the **Synth()** class which takes the following inputs:\n",
    "\n",
    "### Arguments\n",
    "\n",
    "* **data**: Type: Pandas dataframe. A pandas dataframe containing the dataset. Each row should contain one observation for a unit at a time, including the outcome and covariates. Dataset should be ordered by unit then time.\n",
    "\n",
    "\n",
    "* **outcome_var**: Type: str. Name of outcome column in data, e.g. \"gdp\"\n",
    "\n",
    "\n",
    "* **id_var**: Type: str. Name of unit indicator column in data, e.g. \"country\"\n",
    "\n",
    "\n",
    "* **time_var**: Type: str. Name of time column in data, e.g. \"year\"\n",
    "\n",
    "\n",
    "* **treatment_period**: Type: int. Time of first observation after the treatment took place, i.e. first observation affected by the treatment effect. E.g. 1990 for german reunification.\n",
    "\n",
    "\n",
    "* **treated_unit**: Type: str. Name of the unit that recieved treatment, data[\"id_var\"] == treated_unit.\n",
    "\n",
    "\n",
    "* **n_optim**: Type: int. Default: 10. Number of different initialization values for which the optimization is run. Higher number means longer runtime, but a higher change of a globally optimal solution.\n",
    "\n",
    "\n",
    "* **pen**: Type: float. Default: 0. Penalization coefficient which determines the relative importance of minimizing the sum of the pairwise difference of each individual control unit in the synthetic control and the treated unit, vis-a-vis the difference between the synthetic control and the treated unit. Higher number means pairwise difference matters more. When pen=0, as is the default, the pairwise differences are completely ignored. This means that unless otherwise specificed, Synth() is generating a classic synthetic control, like the ones in Abadie et al. (2015). __If pen=\"auto\"__, the penalization term will be optimized over, along with V and W, using the pre-treatment data. \n",
    "\n",
    "\n",
    "* **exclude_columns**: Type: list. Default: []. List of column names to be excluded from the Synthetic Control. This is practically equivalent to dropping the columns included in the dataframe before running Synth or DiffSynth. That means in the below examples, I could have used exclude_columns=[\"code\"] instead of dropping the column when I loaded the dataset.\n",
    "\n",
    "\n",
    "* **random_seed**: type: int. Default: 0. Random seed is used to create a numpy.random.default_rng(random_seed) object which is subsequently used in all random processes in the code. Random samples are used to initialize covariate importance matrix, V, and \"pen\" (if pen=\"auto\") for optimization.\n",
    "\n",
    "### Methods:\n",
    "\n",
    "Synth objects have 3 methods:\n",
    "* **Synth.plot(...)** contains all the plotting functionalities\n",
    "* **Synth.in_time_placebo(...)** runs in-time placebo tests\n",
    "* **Synth.in_space_placebo(...)** runs in-space placebo tests\n",
    "\n",
    "### Attributes:\n",
    "Synth objects have a 1 attribute:\n",
    "* **original_data**: Original data is an object that stores variables and results Synth(). Important are weight_df and comparison_df, which are tables with summary information (see below). It also contains e.g. variables derived in the data-processing step. You can see all of them by calling Synth.original_data.__ dict__\n",
    "\n",
    "We will be using each of these in the following examples."
   ]
  },
  {
   "cell_type": "markdown",
   "metadata": {},
   "source": [
    "## Fitting a Synthetic Control and interpreting the results"
   ]
  },
  {
   "cell_type": "code",
   "execution_count": 3,
   "metadata": {},
   "outputs": [],
   "source": [
    "#Fit synthetic control\n",
    "sc = Synth(data, \"gdp\", \"country\", \"year\", 1990, \"West Germany\", n_optim=100)"
   ]
  },
  {
   "cell_type": "code",
   "execution_count": 4,
   "metadata": {},
   "outputs": [
    {
     "data": {
      "image/png": "[encoded data removed]",
      "text/plain": [
       "<Figure size 1080x864 with 3 Axes>"
      ]
     },
     "metadata": {
      "needs_background": "light"
     },
     "output_type": "display_data"
    }
   ],
   "source": [
    "#Visualize\n",
    "sc.plot([\"original\", \"pointwise\", \"cumulative\"], treated_label=\"West Germany\", \n",
    "            synth_label=\"Synthetic West Germany\", treatment_label=\"German Reunification\")"
   ]
  },
  {
   "cell_type": "markdown",
   "metadata": {},
   "source": [
    "The plot contains three panels. The first panel, \"original\", shows the data and a counterfactual prediction for the post-treatment period. The second panel, \"pointwise\", shows the difference between observed data and counterfactual predictions. This is the pointwise causal effect, as estimated by the model. The third panel, \"cumulative\", adds up the pointwise contributions from the second panel, resulting in a plot of the cumulative effect of the intervention.\n",
    "\n"
   ]
  },
  {
   "cell_type": "code",
   "execution_count": 5,
   "metadata": {
    "scrolled": true
   },
   "outputs": [
    {
     "data": {
      "text/html": [
       "<div>\n",
       "<style scoped>\n",
       "    .dataframe tbody tr th:only-of-type {\n",
       "        vertical-align: middle;\n",
       "    }\n",
       "\n",
       "    .dataframe tbody tr th {\n",
       "        vertical-align: top;\n",
       "    }\n",
       "\n",
       "    .dataframe thead th {\n",
       "        text-align: right;\n",
       "    }\n",
       "</style>\n",
       "<table border=\"1\" class=\"dataframe\">\n",
       "  <thead>\n",
       "    <tr style=\"text-align: right;\">\n",
       "      <th></th>\n",
       "      <th>Weight</th>\n",
       "    </tr>\n",
       "  </thead>\n",
       "  <tbody>\n",
       "    <tr>\n",
       "      <th>USA</th>\n",
       "      <td>0.396718</td>\n",
       "    </tr>\n",
       "    <tr>\n",
       "      <th>Belgium</th>\n",
       "      <td>0.603282</td>\n",
       "    </tr>\n",
       "  </tbody>\n",
       "</table>\n",
       "</div>"
      ],
      "text/plain": [
       "           Weight\n",
       "USA      0.396718\n",
       "Belgium  0.603282"
      ]
     },
     "execution_count": 5,
     "metadata": {},
     "output_type": "execute_result"
    }
   ],
   "source": [
    "#Get weight matrix of solution\n",
    "sc.original_data.weight_df"
   ]
  },
  {
   "cell_type": "code",
   "execution_count": 6,
   "metadata": {},
   "outputs": [
    {
     "data": {
      "text/html": [
       "<div>\n",
       "<style scoped>\n",
       "    .dataframe tbody tr th:only-of-type {\n",
       "        vertical-align: middle;\n",
       "    }\n",
       "\n",
       "    .dataframe tbody tr th {\n",
       "        vertical-align: top;\n",
       "    }\n",
       "\n",
       "    .dataframe thead th {\n",
       "        text-align: right;\n",
       "    }\n",
       "</style>\n",
       "<table border=\"1\" class=\"dataframe\">\n",
       "  <thead>\n",
       "    <tr style=\"text-align: right;\">\n",
       "      <th></th>\n",
       "      <th>unit</th>\n",
       "      <th>pre_rmspe</th>\n",
       "      <th>post_rmspe</th>\n",
       "      <th>post/pre</th>\n",
       "    </tr>\n",
       "  </thead>\n",
       "  <tbody>\n",
       "    <tr>\n",
       "      <th>0</th>\n",
       "      <td>West Germany</td>\n",
       "      <td>96.243293</td>\n",
       "      <td>2246.032119</td>\n",
       "      <td>23.337025</td>\n",
       "    </tr>\n",
       "  </tbody>\n",
       "</table>\n",
       "</div>"
      ],
      "text/plain": [
       "           unit  pre_rmspe   post_rmspe   post/pre\n",
       "0  West Germany  96.243293  2246.032119  23.337025"
      ]
     },
     "execution_count": 6,
     "metadata": {},
     "output_type": "execute_result"
    }
   ],
   "source": [
    "sc.original_data.rmspe_df"
   ]
  },
  {
   "cell_type": "markdown",
   "metadata": {},
   "source": [
    "The weight_df shows the weight assigned to each in the Synthetic Control. In the example above, USA constitutes ~39% of the Synthetic Control. The weights are constrained to be non-negative and to sum to 1.\n",
    "\n",
    "All the units that are assigned 0 weight are excluded from the table, but the complete weight matrix can be retrieved using Synth.original_data.w"
   ]
  },
  {
   "cell_type": "code",
   "execution_count": 7,
   "metadata": {},
   "outputs": [
    {
     "data": {
      "text/html": [
       "<div>\n",
       "<style scoped>\n",
       "    .dataframe tbody tr th:only-of-type {\n",
       "        vertical-align: middle;\n",
       "    }\n",
       "\n",
       "    .dataframe tbody tr th {\n",
       "        vertical-align: top;\n",
       "    }\n",
       "\n",
       "    .dataframe thead th {\n",
       "        text-align: right;\n",
       "    }\n",
       "</style>\n",
       "<table border=\"1\" class=\"dataframe\">\n",
       "  <thead>\n",
       "    <tr style=\"text-align: right;\">\n",
       "      <th></th>\n",
       "      <th>unit</th>\n",
       "      <th>pre_rmspe</th>\n",
       "      <th>post_rmspe</th>\n",
       "      <th>post/pre</th>\n",
       "    </tr>\n",
       "  </thead>\n",
       "  <tbody>\n",
       "    <tr>\n",
       "      <th>0</th>\n",
       "      <td>West Germany</td>\n",
       "      <td>96.243293</td>\n",
       "      <td>2246.032119</td>\n",
       "      <td>23.337025</td>\n",
       "    </tr>\n",
       "  </tbody>\n",
       "</table>\n",
       "</div>"
      ],
      "text/plain": [
       "           unit  pre_rmspe   post_rmspe   post/pre\n",
       "0  West Germany  96.243293  2246.032119  23.337025"
      ]
     },
     "execution_count": 7,
     "metadata": {},
     "output_type": "execute_result"
    }
   ],
   "source": [
    "#RMSPE for Synthetic West Germany vs. West Germany\n",
    "#Treated unit is always first unit in rmspe_df\n",
    "sc.original_data.rmspe_df"
   ]
  },
  {
   "cell_type": "markdown",
   "metadata": {},
   "source": [
    "This dataframe shows the root mean square prediction error of the outcome of the synthetic control as compared to the original treated unit, in this case West Germany. A low pre_rmspe means that the synthetic control fits the treated unit well in the pre-treatment period, this is important if we are to trust that it provides a good estimate of what the treated units outcome would have been if the treated unit had not recieved the treatment."
   ]
  },
  {
   "cell_type": "markdown",
   "metadata": {},
   "source": [
    "### Evaluating covariate balance"
   ]
  },
  {
   "cell_type": "code",
   "execution_count": 8,
   "metadata": {
    "scrolled": true
   },
   "outputs": [
    {
     "data": {
      "text/html": [
       "<div>\n",
       "<style scoped>\n",
       "    .dataframe tbody tr th:only-of-type {\n",
       "        vertical-align: middle;\n",
       "    }\n",
       "\n",
       "    .dataframe tbody tr th {\n",
       "        vertical-align: top;\n",
       "    }\n",
       "\n",
       "    .dataframe thead th {\n",
       "        text-align: right;\n",
       "    }\n",
       "</style>\n",
       "<table border=\"1\" class=\"dataframe\">\n",
       "  <thead>\n",
       "    <tr style=\"text-align: right;\">\n",
       "      <th></th>\n",
       "      <th>West Germany</th>\n",
       "      <th>Synthetic West Germany</th>\n",
       "      <th>WMAPE</th>\n",
       "      <th>Importance</th>\n",
       "    </tr>\n",
       "  </thead>\n",
       "  <tbody>\n",
       "    <tr>\n",
       "      <th>gdp</th>\n",
       "      <td>8169.83</td>\n",
       "      <td>8148.46</td>\n",
       "      <td>1002.35</td>\n",
       "      <td>0.13</td>\n",
       "    </tr>\n",
       "    <tr>\n",
       "      <th>infrate</th>\n",
       "      <td>3.39</td>\n",
       "      <td>5.08</td>\n",
       "      <td>1.69</td>\n",
       "      <td>0.12</td>\n",
       "    </tr>\n",
       "    <tr>\n",
       "      <th>trade</th>\n",
       "      <td>45.76</td>\n",
       "      <td>71.27</td>\n",
       "      <td>50.07</td>\n",
       "      <td>0.13</td>\n",
       "    </tr>\n",
       "    <tr>\n",
       "      <th>schooling</th>\n",
       "      <td>55.78</td>\n",
       "      <td>37.48</td>\n",
       "      <td>18.31</td>\n",
       "      <td>0.13</td>\n",
       "    </tr>\n",
       "    <tr>\n",
       "      <th>invest60</th>\n",
       "      <td>0.34</td>\n",
       "      <td>0.26</td>\n",
       "      <td>0.08</td>\n",
       "      <td>0.12</td>\n",
       "    </tr>\n",
       "    <tr>\n",
       "      <th>invest70</th>\n",
       "      <td>0.33</td>\n",
       "      <td>0.27</td>\n",
       "      <td>0.06</td>\n",
       "      <td>0.12</td>\n",
       "    </tr>\n",
       "    <tr>\n",
       "      <th>invest80</th>\n",
       "      <td>27.02</td>\n",
       "      <td>22.07</td>\n",
       "      <td>4.94</td>\n",
       "      <td>0.12</td>\n",
       "    </tr>\n",
       "    <tr>\n",
       "      <th>industry</th>\n",
       "      <td>39.69</td>\n",
       "      <td>35.30</td>\n",
       "      <td>4.39</td>\n",
       "      <td>0.12</td>\n",
       "    </tr>\n",
       "  </tbody>\n",
       "</table>\n",
       "</div>"
      ],
      "text/plain": [
       "           West Germany  Synthetic West Germany    WMAPE  Importance\n",
       "gdp             8169.83                 8148.46  1002.35        0.13\n",
       "infrate            3.39                    5.08     1.69        0.12\n",
       "trade             45.76                   71.27    50.07        0.13\n",
       "schooling         55.78                   37.48    18.31        0.13\n",
       "invest60           0.34                    0.26     0.08        0.12\n",
       "invest70           0.33                    0.27     0.06        0.12\n",
       "invest80          27.02                   22.07     4.94        0.12\n",
       "industry          39.69                   35.30     4.39        0.12"
      ]
     },
     "execution_count": 8,
     "metadata": {},
     "output_type": "execute_result"
    }
   ],
   "source": [
    "sc.original_data.comparison_df"
   ]
  },
  {
   "cell_type": "markdown",
   "metadata": {},
   "source": [
    "### What the columns show:\n",
    "**self.original_data.treated_unit**: \n",
    "  Unscaled, average covariate values of the treated unit\n",
    "  If method == DSC, then the differenced data is displayed instead\n",
    "\n",
    "**Synthetic Control**: \n",
    "  Unscaled, covariate values of the synthetic control unit\n",
    "  If method == DSC, then the differenced data is displayed instead\n",
    "\n",
    "**WMAPE**:\n",
    "  Weighted Mean Absolute Pairwise Error. For each covariate, how different is each control \n",
    "  unit inside the synthetic control from the treated unit, weighted by the weight assigned to each unit.\n",
    "  This does not change even if method == DSC, as bias scales with value of difference and not change\n",
    "\n",
    "**Importance**:\n",
    "  Leading diagonal of V matrix. How important, relative to other covariates,\n",
    "  is matching on each covariate in the optimization process?\n",
    "  Note that this is computed after rescaling each covariate to be unit variance, \n",
    "  whereas the other columns show the unscaled covariate values.\n",
    "\n",
    "**Control Group Average**:\n",
    "  Simple average of all the units in the control group. Not strictly necessary for anything,\n",
    "  but it is often interesting to see how well the synthetic control is doing. \n",
    "  \n",
    "### How to interpret the table:\n",
    "A good synthetic control will reconstruct (a) the outcome of the treated unit and (b) the covariates of the treated unit over the pre-treatment period. The plots and the RMSPE help us evaluate (a), this table is meant to evaluate (b).\n",
    "If the synthetic control has good fit, the following things should be true:\n",
    "\n",
    "1. Each row of the first two columns should be approximately equal. \n",
    "   This means the synthetic control has reconstructed the treated unit values. In this case, whilst the balance is not perfect, the values are quite similar on all covariates. On it's own, in my opinion, this is not enough to convince us that we have found a strong synthetitic control. However, when considered in combination with the validity tests in the subsequent section, we can be confident we have found a strong synthetic control for West Germany. This is generally true, none of these checks are suffici'ent to show the reliability of a synthetic control, but must be evaluated together–if all point to the conclusion that the synthetic control is good, we can be confident.\n",
    "\n",
    "2. The third column should be small, relative to the values in columns 1 and 2. \n",
    "   The closer to zero, the more similar the individual control units inside the syntetic control are to the treated unit.\n",
    "   The smaller the WMAPE, the lower the potential bias, all else equal. In this case, all of the variables are small, even an order of magnitude smaller, than those in the two first columns–indicating lower risk for bias.\n",
    "\n",
    "3. There is no fixed way to interpret the importance column. Instead, it should be evaluated using domain knowledge.\n",
    "   Is the relative importance assigned to each covariate reasonable given the context?"
   ]
  },
  {
   "cell_type": "markdown",
   "metadata": {},
   "source": [
    "## Validity testing of SC\n",
    "\"To evaluate the credibility of our results, we conduct placebo studies where the treatment of interest is reassigned in the data to a year other than 1990 or to countries different from West Germany.\" (Abadie et. al, 2015)\n",
    "\n",
    "### In-time placebo\n",
    "\"We first compare the reunification effect estimated above for West Germany to a placebo effect obtained after reassigning the German reunification in our data to a period before the reunification actually took place. A large placebo estimate would undermine our confidence that the results in Figure 2 are indeed indicative of the economic cost of reunification and not merely driven by lack of predictive power.\" (Abadie et. al, 2015)\n",
    "\n",
    "Specifically, we call in_time_placebo(1982), which reruns the model with 1982 as the first observation after the treatment, about 8 years before the actual reunification in 1990."
   ]
  },
  {
   "cell_type": "code",
   "execution_count": null,
   "metadata": {
    "scrolled": false
   },
   "outputs": [],
   "source": [
    "#In-time placebo\n",
    "#Placebo treatment period is 1982, 8 years earlier\n",
    "sc.in_time_placebo(1982, n_optim=10)\n",
    "\n",
    "#Visualize\n",
    "sc.plot(['in-time placebo'], \n",
    "            treated_label=\"West Germany\",\n",
    "            synth_label=\"Synthetic West Germany\")"
   ]
  },
  {
   "cell_type": "markdown",
   "metadata": {},
   "source": [
    "Observing the 'in-time placebo' plot, we see that the outcome of the synthetic control and West Germany do not diverge until the true treatment in 1990, remaining close thereuntil. This increases our confidence in the counterfactual outcome provided by the synthetic control."
   ]
  },
  {
   "cell_type": "markdown",
   "metadata": {},
   "source": [
    "\n",
    "\n",
    "### In-space placebo\n",
    "An alternative way to conduct placebo studies is to reassign the treatment in the data to a comparison unit.\n",
    "In this way, we can obtain synthetic control estimates for countries that did not experience the event of interest. Applying this idea to each country in the donor pool allows us to compare the estimated effect of the German reunification on West Germany to the distribution of placebo effects obtained for other countries. We will\n",
    "deem the effect of the German reunification on West Germany significant if the estimated effect for West Germany\n",
    "is unusually large relative to the distribution of placebo effects.\n",
    "\n",
    "To perform this in-space placebo study, we use the method in_space_placebo(). The results are best visualized using the 'rmspe ratio' plot, which shows the distribution of Post-treatment period RMSPE / Pre-treatment period RMSPE for the true treated unit and each of the placebo treated units. The logic is that in the presence of a large treatment effect, the post-treatment difference between the a unit and its synthetic counterpart would be large relative to the pre-treatment difference."
   ]
  },
  {
   "cell_type": "code",
   "execution_count": null,
   "metadata": {},
   "outputs": [],
   "source": [
    "#Compute in-space placebos\n",
    "sc.in_space_placebo(15)"
   ]
  },
  {
   "cell_type": "code",
   "execution_count": null,
   "metadata": {},
   "outputs": [],
   "source": [
    "#Visualize\n",
    "sc.plot(['rmspe ratio'])"
   ]
  },
  {
   "cell_type": "markdown",
   "metadata": {},
   "source": [
    "West Germany is a clear outlier in the Post-period / pre-period RMSPE distribution, more than twice as extreme as any of the placebo treated units. This increases our confidence in the synthetic control estimates."
   ]
  },
  {
   "cell_type": "markdown",
   "metadata": {},
   "source": [
    "# Replication using Penalized Synthetic Control\n",
    "\n",
    "You can think of the ordinary synthetic control method as trying to find weights such that the synthetic control unit is maximally similar to the treated unit AFTER you mix the control units. Penalized Synthetic Controls try to find weights such that the control units are maximally similar AFTER you mix them into a synthetic unit, but also before you mix them. I.e. you would prefer for the units inside the synthetic control to be similar to the treated unit even before you mix them. If the relationship between the outcome and the covariates is non-linear, then the synthetic control is biased and the bias grows with the difference before mixing (more on this in README.md).\n",
    "\n",
    "If you set pen=\"auto\", the synthetic control find a penalization coefficient that strikes a balance between fit before and after mixing, such that the resulting synthetic control is best able to predict the outcome of the treated unit. Beyond that, you interact with the Synth(pen=\"auto\") exactly the same way as you do Synth(pen=0), only the results might look different. In the case of West Germany, they look exactly the same."
   ]
  },
  {
   "cell_type": "code",
   "execution_count": null,
   "metadata": {},
   "outputs": [],
   "source": [
    "#Fit synthetic control\n",
    "sc_pen = Synth(data, \"gdp\", \"country\", \"year\", 1990, \"West Germany\",\n",
    "               n_optim=30, pen=\"auto\", exclude_columns=[\"code\"])"
   ]
  },
  {
   "cell_type": "markdown",
   "metadata": {},
   "source": [
    "#### Note: All the code after this point will be exactly the same, only the synthetic control itself will be different"
   ]
  },
  {
   "cell_type": "code",
   "execution_count": null,
   "metadata": {},
   "outputs": [],
   "source": [
    "#Visualize\n",
    "sc_pen.plot([\"original\", \"pointwise\", \"cumulative\"], treated_label=\"West Germany\", \n",
    "            synth_label=\"Synthetic West Germany\", treatment_label=\"German Reunification\")"
   ]
  },
  {
   "cell_type": "code",
   "execution_count": null,
   "metadata": {},
   "outputs": [],
   "source": [
    "sc_pen.original_data.weight_df"
   ]
  },
  {
   "cell_type": "code",
   "execution_count": null,
   "metadata": {},
   "outputs": [],
   "source": [
    "#Look at the penalization coefficient\n",
    "sc_pen.original_data.pen"
   ]
  },
  {
   "cell_type": "code",
   "execution_count": null,
   "metadata": {},
   "outputs": [],
   "source": [
    "#RMSPE for Synthetic West Germany vs. West Germany\n",
    "#Treated unit is always first unit in rmspe_df\n",
    "sc_pen.original_data.rmspe_df"
   ]
  },
  {
   "cell_type": "code",
   "execution_count": null,
   "metadata": {},
   "outputs": [],
   "source": [
    "sc_pen.original_data.comparison_df"
   ]
  },
  {
   "cell_type": "code",
   "execution_count": null,
   "metadata": {},
   "outputs": [],
   "source": [
    "#In-time placebo\n",
    "#Placebo treatment period is 1982, 8 years earlier\n",
    "sc_pen.in_time_placebo(1982, n_optim=10)\n",
    "\n",
    "#Visualize\n",
    "sc_pen.plot(['in-time placebo'], \n",
    "            treated_label=\"West Germany\",\n",
    "            synth_label=\"Synthetic West Germany\")"
   ]
  },
  {
   "cell_type": "code",
   "execution_count": null,
   "metadata": {},
   "outputs": [],
   "source": [
    "#Compute in-space placebos\n",
    "sc_pen.in_space_placebo(15)\n",
    "\n",
    "#Visualize\n",
    "sc_pen.plot(['rmspe ratio'])"
   ]
  },
  {
   "cell_type": "markdown",
   "metadata": {},
   "source": [
    " # Using Differenced Synthetic Control, DiffSynth\n",
    "\n",
    "### What is a Differenced Synthetic Control?\n",
    "\n",
    "\n",
    "A key insight that Consequently, DiffSynth has a larger solution space.\n",
    "\n",
    "In general, I recommend using DiffSynth if the Synth does not do a good job–there is a chance DiffSynth might because of the extra flexibility. For example, if the outcome of the treated unit is more extreme than those of any or most of the control units, then ordinary synthetic control is bound to fail, as the convexity constraint on the weights (can never sum to more than 1), means the best synthetic control will assign all weight to the most extreme control unit. In this case, DiffSynth will not have a problem as it tries only to construct a synthetic control that changes the same way as the treated unit, not one that changes the same way and has the same level as the treated unit. Further, __Use DiffSynth with pen=\"auto\"__ to mitigate bias that could follow from increased flexibility.\n",
    "\n",
    "Note: Differenced Synthetitic Controls do not exist in the literature - I propose them in my forthcoming thesis advised by Professor Alexis Diamond, one of the coauthors on the works introducing the original Synthetic Control (Abadie, Diamond & Hainmueller, 2010; Abadie, Diamond & Hainmueller, 2015).\n",
    "\n",
    "\n",
    "### How to use Differenced Synthetic Controls\n",
    "Differerenced synthetic controls are called using DiffSynth() instead of Synth(). I takes one additional, optional argument, apart from that you use it exactly the same way as Synth and interpret the results the same way. There is one exception, in terms, of interpretation: the comparison table, it will show the average _change_ instead of the average values of the covariates (example below).\n",
    "\n",
    "Differenced Synthetic Control is fit using the DiffSynth() method, which takes the following inputs:\n",
    "\n",
    "* **not_diff_cols**: Type: list. Default: []. List of column names to omit from pre-processing, e.g. compute the first difference for. Typically, columns should be included if the proportion of missing values is high. This is because the first difference is only defined for two consecutive values.\n"
   ]
  },
  {
   "cell_type": "code",
   "execution_count": null,
   "metadata": {},
   "outputs": [],
   "source": [
    "dsc = DiffSynth(data, \"gdp\", \"country\", \"year\", 1990, \"West Germany\", \n",
    "                  not_diff_cols=[\"schooling\", \"invest60\", \"invest70\", \"invest80\"],\n",
    "                  n_optim=100)"
   ]
  },
  {
   "cell_type": "markdown",
   "metadata": {},
   "source": [
    "Because \"schooling\", \"invest60\", \"invest70\" and \"invest80\" all have 97% missing data, i.e. one observation per variable per unit, taking the first difference of them is not fruitful. If we do it before imputing missing values, the change is not defined as there is nothing to compare it to. If we do it after imputing values, regardless of which imputation strategy we use, for any unit, we would assign the same value to each time period. In turn, this would mean that the change between any two time periods would be zero. Either way, the informational value of the covariates would be lost.\n",
    "\n",
    "This is a general weakness of the first difference approach–in these cases it is best to not compute the first difference, by including the columns in the not_diff_cols argument. That said, there are still benefits to be reaped by differencing the outcome and the remaining covariates."
   ]
  },
  {
   "cell_type": "code",
   "execution_count": null,
   "metadata": {},
   "outputs": [],
   "source": [
    "#Visualize\n",
    "dsc.plot([\"original\", \"pointwise\", \"cumulative\"], treated_label=\"West Germany\", \n",
    "            synth_label=\"Synthetic West Germany\", treatment_label=\"German Reunification\")"
   ]
  },
  {
   "cell_type": "code",
   "execution_count": null,
   "metadata": {},
   "outputs": [],
   "source": [
    "dsc.original_data.weight_df"
   ]
  },
  {
   "cell_type": "code",
   "execution_count": null,
   "metadata": {},
   "outputs": [],
   "source": [
    "#The differenced synthetic control outcome has been shifted upwards by 134 units\n",
    "dsc.original_data.synth_constant"
   ]
  },
  {
   "cell_type": "code",
   "execution_count": null,
   "metadata": {},
   "outputs": [],
   "source": [
    "#RMSPE for Synthetic West Germany vs. West Germany\n",
    "dsc.original_data.rmspe_df"
   ]
  },
  {
   "cell_type": "markdown",
   "metadata": {},
   "source": [
    "It should be noted that the pre-treatment fit on the outcome, whilst still excellent, is somewhat worse than that or ordinary Synth for this application. Notice, however, that in the outcome plot DiffSynth matches the outcome perfectly over the last time-periods before the German Reunification–Synth, both penalized and ordinary, overestimated West Germany's GDP. This results in a somewhat lower treatment effect estimate as indicated by post_rmspe––which may actually be more appropriate/accurate than Synth and PenSynth––and therefore also a lower post/pre ratio."
   ]
  },
  {
   "cell_type": "code",
   "execution_count": null,
   "metadata": {},
   "outputs": [],
   "source": [
    "dsc.original_data.comparison_df"
   ]
  },
  {
   "cell_type": "markdown",
   "metadata": {},
   "source": [
    "The only difference in interpreting DiffSynth results from Synth are in the first two columns of this table. Notice the West Germany values are different for every covariate (except the ones include in not_diff_cols). This is because they show the average change in the covariate value from the previous year (previous time period, in general/any application), instead of the average value. The differenced synthetic control tries to construct a synthetic control that changes the same way as the treated unit, so that the outcomes are parallel in the pre-treatment period. Similar to Difference-in-Differences methods, a constant offset can then be included to shift the synthetic control pre-treatment outcome up to the same level as the treated unit.\n",
    "\n",
    "__WMAPE__: Notice that the third column is still displaying unitwise average differences in the values of the covariates, _not_ the change."
   ]
  },
  {
   "cell_type": "markdown",
   "metadata": {},
   "source": [
    "## Validity testing of DSC\n",
    "The validity tests for DSC work and can be interpreted the same way as they are for SC.\n",
    "\n",
    "### In-time placebo"
   ]
  },
  {
   "cell_type": "code",
   "execution_count": null,
   "metadata": {
    "scrolled": false
   },
   "outputs": [],
   "source": [
    "#In-time placebo\n",
    "#Placebo treatment period is 1982, 8 years earlier\n",
    "dsc.in_time_placebo(1982)\n",
    "\n",
    "#Visualize\n",
    "dsc.plot(['in-time placebo'], \n",
    "            treated_label=\"West Germany\",\n",
    "            synth_label=\"Synthetic West Germany\")"
   ]
  },
  {
   "cell_type": "markdown",
   "metadata": {},
   "source": [
    "Note the striking similarity of the in-time placebo synthetic control unit and the real synthetic control unit generated by DiffSynth."
   ]
  },
  {
   "cell_type": "markdown",
   "metadata": {},
   "source": [
    "### In-space placebo"
   ]
  },
  {
   "cell_type": "code",
   "execution_count": null,
   "metadata": {
    "scrolled": false
   },
   "outputs": [],
   "source": [
    "#Compute in-space placebos\n",
    "dsc.in_space_placebo(15)\n",
    "\n",
    "#Visualize\n",
    "dsc.plot(['rmspe ratio'])"
   ]
  },
  {
   "cell_type": "markdown",
   "metadata": {},
   "source": [
    "The RMSPE ratio of West Germany is lower using the DSC as compared to SC (16 vs 23). Simultaneously, the distribution of placebo units is grouped comparably closely towards 0 using DSC. The highest placebo RMSPE for DSC is 6 (Greece), whereas the highest for SC is 10 (Norway). On the whole, this means that the synthetic control estimate of West Germany is similar in terms of in-space placebo significance using DSC, as compared to SC."
   ]
  },
  {
   "cell_type": "markdown",
   "metadata": {},
   "source": [
    "### Variable descriptions and data sources:\n",
    "* **GDP per Capita (PPP, 2002 USD):** Source: OECD National Accounts (retrieved via the OECD Health Database). Data for West Germany was obtained from Statistisches Bundesamt 2005 (Arbeitskreis “Volkswirtschaftliche Gesamtrechnungen der Lander”) and converted using PPP ¨monetary conversion factors (retrieved from the OECD Health Database).  \n",
    "* **Investment Rate:** Ratio of real domestic investment (private plus public) to real GDP. The data are reported in five-year averages. Source: Barro, Robert Joseph, and Jong-wha Lee. 1994. “Data Set for a Panel of 138 Countries.” Available at http://www.nber.org/pub/barro.lee/.  \n",
    "* **Schooling**: Percentage of secondary school attained in the total population aged 25 and older. The data are reported in five-year increments. Source: Barro, Robert Joseph, and Jong-wha Lee. 2000. “International Data on Educational Attainment: Updates and Implications.” CID Working Paper No. 42, April 2000 – Human Capital Updated Files.  \n",
    "* **Industry**: industry share of value added. Source: World Bank WDI Database 2005 and Statistisches Bundesamt 2005.  \n",
    "* **Inflation**: annual percentage change in consumer prices (base year 1995). Source: World Development Indicators Database 2005 and Statistisches Bundesamt 2005.  \n",
    "* **Trade Openness**: Export plus imports as percentage of GDP. Source: World Bank: World Development Indicators CD-ROM 2000."
   ]
  }
 ],
 "metadata": {
  "kernelspec": {
   "display_name": "Python 3",
   "language": "python",
   "name": "python3"
  },
  "language_info": {
   "codemirror_mode": {
    "name": "ipython",
    "version": 3
   },
   "file_extension": ".py",
   "mimetype": "text/x-python",
   "name": "python",
   "nbconvert_exporter": "python",
   "pygments_lexer": "ipython3",
   "version": "3.7.6"
  }
 },
 "nbformat": 4,
 "nbformat_minor": 4
}
